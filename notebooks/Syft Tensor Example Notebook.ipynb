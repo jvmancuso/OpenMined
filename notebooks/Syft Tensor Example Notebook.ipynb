{
 "cells": [
  {
   "cell_type": "code",
   "execution_count": 1,
   "metadata": {},
   "outputs": [
    {
     "name": "stderr",
     "output_type": "stream",
     "text": [
      "/home/jason/anaconda3/envs/openmined/lib/python3.6/site-packages/IPython/html.py:14: ShimWarning: The `IPython.html` package has been deprecated since IPython 4.0. You should import from `notebook` instead. `IPython.html.widgets` has moved to `ipywidgets`.\n",
      "  \"`IPython.html.widgets` has moved to `ipywidgets`.\", ShimWarning)\n"
     ]
    }
   ],
   "source": [
    "import syft\n",
    "import syft.nn as nn\n",
    "from syft.controller import tensors, models\n",
    "import imp\n",
    "imp.reload(syft.controller)\n",
    "imp.reload(syft.nn)\n",
    "imp.reload(syft)\n",
    "\n",
    "import numpy as np\n",
    "from syft import FloatTensor, IntTensor"
   ]
  },
  {
   "cell_type": "code",
   "execution_count": 2,
   "metadata": {},
   "outputs": [],
   "source": [
    "# create tensors\n",
    "data = np.array([-1,-2,3,4,5,-6]).astype('float')\n",
    "a = FloatTensor(data)\n",
    "b = FloatTensor(np.array([[-100,-200,300],[400,500,-600]]).astype('float'))\n",
    "c = FloatTensor(np.array([-30,-32,33,34,35,-36]).astype('float')) \n",
    "d = FloatTensor(np.random.rand(2,6))"
   ]
  },
  {
   "cell_type": "code",
   "execution_count": 3,
   "metadata": {
    "collapsed": true
   },
   "outputs": [],
   "source": [
    "x = FloatTensor(list(range(1,25))).view(3,4,2).autograd(True)\n",
    "y = FloatTensor(list(range(26,50))).view(3,4,2).autograd(True)\n",
    "\n",
    "xi = IntTensor([1,3,5])"
   ]
  },
  {
   "cell_type": "code",
   "execution_count": 4,
   "metadata": {
    "collapsed": true
   },
   "outputs": [],
   "source": [
    "z = syft.concatenate([x,y],axis=0)"
   ]
  },
  {
   "cell_type": "code",
   "execution_count": 5,
   "metadata": {
    "collapsed": true
   },
   "outputs": [],
   "source": [
    "z_grad = (z * 1).autograd(False)"
   ]
  },
  {
   "cell_type": "code",
   "execution_count": 6,
   "metadata": {
    "collapsed": true
   },
   "outputs": [],
   "source": [
    "z.backward(z_grad)"
   ]
  },
  {
   "cell_type": "code",
   "execution_count": 7,
   "metadata": {},
   "outputs": [
    {
     "data": {
      "text/plain": [
       "[[[26. 27.]\n",
       "  [28. 29.]\n",
       "  [30. 31.]\n",
       "  [32. 33.]]\n",
       "\n",
       " [[34. 35.]\n",
       "  [36. 37.]\n",
       "  [38. 39.]\n",
       "  [40. 41.]]\n",
       "\n",
       " [[42. 43.]\n",
       "  [44. 45.]\n",
       "  [46. 47.]\n",
       "  [48. 49.]]]\n",
       "[syft.FloatTensor:16 grad:None size:3x4x2 c:[] p:[15] init:view_3_4_2]\n",
       "\n",
       "\t-----------creators-----------\n",
       "\t[syft.FloatTensor:15 grad:None size:1x3x8 c:[16] p:[10] init:index_select_0_3]\n",
       "\t------------------------------\n",
       "\n"
      ]
     },
     "execution_count": 7,
     "metadata": {},
     "output_type": "execute_result"
    }
   ],
   "source": [
    "y.grad()"
   ]
  },
  {
   "cell_type": "code",
   "execution_count": 8,
   "metadata": {},
   "outputs": [
    {
     "data": {
      "text/plain": [
       "array([[[ 1.,  2., 26., 27.],\n",
       "        [ 3.,  4., 28., 29.],\n",
       "        [ 5.,  6., 30., 31.],\n",
       "        [ 7.,  8., 32., 33.]],\n",
       "\n",
       "       [[ 9., 10., 34., 35.],\n",
       "        [11., 12., 36., 37.],\n",
       "        [13., 14., 38., 39.],\n",
       "        [15., 16., 40., 41.]],\n",
       "\n",
       "       [[17., 18., 42., 43.],\n",
       "        [19., 20., 44., 45.],\n",
       "        [21., 22., 46., 47.],\n",
       "        [23., 24., 48., 49.]]])"
      ]
     },
     "execution_count": 8,
     "metadata": {},
     "output_type": "execute_result"
    }
   ],
   "source": [
    "np.concatenate([x.to_numpy(),y.to_numpy()],axis=2)"
   ]
  },
  {
   "cell_type": "code",
   "execution_count": 9,
   "metadata": {},
   "outputs": [
    {
     "data": {
      "text/plain": [
       "[[[26. 27.]\n",
       "  [28. 29.]\n",
       "  [30. 31.]\n",
       "  [32. 33.]]\n",
       "\n",
       " [[34. 35.]\n",
       "  [36. 37.]\n",
       "  [38. 39.]\n",
       "  [40. 41.]]\n",
       "\n",
       " [[42. 43.]\n",
       "  [44. 45.]\n",
       "  [46. 47.]\n",
       "  [48. 49.]]]\n",
       "[syft.FloatTensor:8 grad:16 size:3x4x2 c:[9] p:[] init:view_3_4_2]\n",
       "\n",
       "\t-----------children-----------\n",
       "\t[syft.FloatTensor:9 grad:10 size:6x4x2 c:[10] p:[6, 8] init:concatenate_0]\n",
       "\t------------------------------\n",
       "\n"
      ]
     },
     "execution_count": 9,
     "metadata": {},
     "output_type": "execute_result"
    }
   ],
   "source": [
    "y"
   ]
  },
  {
   "cell_type": "code",
   "execution_count": 10,
   "metadata": {},
   "outputs": [
    {
     "data": {
      "text/plain": [
       "[1 3 5]\n",
       "[syft.IntTensor:1 size:3]"
      ]
     },
     "execution_count": 10,
     "metadata": {},
     "output_type": "execute_result"
    }
   ],
   "source": [
    "xi"
   ]
  },
  {
   "cell_type": "code",
   "execution_count": 11,
   "metadata": {},
   "outputs": [
    {
     "data": {
      "text/plain": [
       "'True'"
      ]
     },
     "execution_count": 11,
     "metadata": {},
     "output_type": "execute_result"
    }
   ],
   "source": [
    "y.save(\"y.tensor\")"
   ]
  },
  {
   "cell_type": "code",
   "execution_count": 12,
   "metadata": {},
   "outputs": [
    {
     "data": {
      "text/plain": [
       "[[[26. 27.]\n",
       "  [28. 29.]\n",
       "  [30. 31.]\n",
       "  [32. 33.]]\n",
       "\n",
       " [[34. 35.]\n",
       "  [36. 37.]\n",
       "  [38. 39.]\n",
       "  [40. 41.]]\n",
       "\n",
       " [[42. 43.]\n",
       "  [44. 45.]\n",
       "  [46. 47.]\n",
       "  [48. 49.]]]\n",
       "[syft.FloatTensor:17 grad:None size:3x4x2 c:[] p:[] init:read_from_file]"
      ]
     },
     "execution_count": 12,
     "metadata": {},
     "output_type": "execute_result"
    }
   ],
   "source": [
    "syft.load('y.tensor')"
   ]
  },
  {
   "cell_type": "code",
   "execution_count": 13,
   "metadata": {},
   "outputs": [
    {
     "data": {
      "text/plain": [
       "'True'"
      ]
     },
     "execution_count": 13,
     "metadata": {},
     "output_type": "execute_result"
    }
   ],
   "source": [
    "x.save(\"x.tensor\")"
   ]
  },
  {
   "cell_type": "code",
   "execution_count": 14,
   "metadata": {},
   "outputs": [
    {
     "data": {
      "text/plain": [
       "[[[ 1.  2.]\n",
       "  [ 3.  4.]\n",
       "  [ 5.  6.]\n",
       "  [ 7.  8.]]\n",
       "\n",
       " [[ 9. 10.]\n",
       "  [11. 12.]\n",
       "  [13. 14.]\n",
       "  [15. 16.]]\n",
       "\n",
       " [[17. 18.]\n",
       "  [19. 20.]\n",
       "  [21. 22.]\n",
       "  [23. 24.]]]\n",
       "[syft.FloatTensor:6 grad:14 size:3x4x2 c:[9] p:[] init:view_3_4_2]\n",
       "\n",
       "\t-----------children-----------\n",
       "\t[syft.FloatTensor:9 grad:10 size:6x4x2 c:[10] p:[6, 8] init:concatenate_0]\n",
       "\t------------------------------\n",
       "\n"
      ]
     },
     "execution_count": 14,
     "metadata": {},
     "output_type": "execute_result"
    }
   ],
   "source": [
    "x"
   ]
  },
  {
   "cell_type": "code",
   "execution_count": 15,
   "metadata": {},
   "outputs": [
    {
     "data": {
      "text/plain": [
       "[[[26. 27.]\n",
       "  [28. 29.]\n",
       "  [30. 31.]\n",
       "  [32. 33.]]\n",
       "\n",
       " [[34. 35.]\n",
       "  [36. 37.]\n",
       "  [38. 39.]\n",
       "  [40. 41.]]\n",
       "\n",
       " [[42. 43.]\n",
       "  [44. 45.]\n",
       "  [46. 47.]\n",
       "  [48. 49.]]]\n",
       "[syft.FloatTensor:8 grad:16 size:3x4x2 c:[9] p:[] init:view_3_4_2]\n",
       "\n",
       "\t-----------children-----------\n",
       "\t[syft.FloatTensor:9 grad:10 size:6x4x2 c:[10] p:[6, 8] init:concatenate_0]\n",
       "\t------------------------------\n",
       "\n"
      ]
     },
     "execution_count": 15,
     "metadata": {},
     "output_type": "execute_result"
    }
   ],
   "source": [
    "y"
   ]
  },
  {
   "cell_type": "code",
   "execution_count": 16,
   "metadata": {
    "collapsed": true
   },
   "outputs": [],
   "source": [
    "out = a.view_(2,3)"
   ]
  },
  {
   "cell_type": "code",
   "execution_count": 17,
   "metadata": {},
   "outputs": [
    {
     "data": {
      "text/plain": [
       "[[-1. -2.  3.]\n",
       " [ 4.  5. -6.]]\n",
       "[syft.FloatTensor:1 grad:None size:2x3 c:[] p:[] init:]"
      ]
     },
     "execution_count": 17,
     "metadata": {},
     "output_type": "execute_result"
    }
   ],
   "source": [
    "out"
   ]
  },
  {
   "cell_type": "code",
   "execution_count": 18,
   "metadata": {},
   "outputs": [
    {
     "data": {
      "text/plain": [
       "[[-1. -2.  3.]\n",
       " [ 4.  5. -6.]]\n",
       "[syft.FloatTensor:18 grad:None size:2x3 c:[] p:[1] init:view_2_3]\n",
       "\n",
       "\t-----------creators-----------\n",
       "\t[syft.FloatTensor:1 grad:None size:2x3 c:[18] p:[] init:]\n",
       "\t------------------------------\n",
       "\n"
      ]
     },
     "execution_count": 18,
     "metadata": {},
     "output_type": "execute_result"
    }
   ],
   "source": [
    "# using view_as should return new tensor with shape of given tensor\n",
    "a.view_as(b)\n",
    "# should be\n",
    "#[[-1. -2.  3.]\n",
    "# [ 4.  5. -6.]]"
   ]
  },
  {
   "cell_type": "code",
   "execution_count": 19,
   "metadata": {},
   "outputs": [
    {
     "data": {
      "text/plain": [
       "[-100. -200.  300.  400.  500. -600.]\n",
       "[syft.FloatTensor:19 grad:None size:6 c:[] p:[2] init:view_6]\n",
       "\n",
       "\t-----------creators-----------\n",
       "\t[syft.FloatTensor:2 grad:None size:2x3 c:[19] p:[] init:]\n",
       "\t------------------------------\n",
       "\n"
      ]
     },
     "execution_count": 19,
     "metadata": {},
     "output_type": "execute_result"
    }
   ],
   "source": [
    "b.view_as(c)\n",
    "# should be\n",
    "# [-100. -200.  300.  400.  500. -600.]"
   ]
  },
  {
   "cell_type": "code",
   "execution_count": 20,
   "metadata": {},
   "outputs": [
    {
     "data": {
      "text/plain": [
       "[[-30. -32.  33.]\n",
       " [ 34.  35. -36.]]\n",
       "[syft.FloatTensor:20 grad:None size:2x3 c:[] p:[3] init:view_2_3]\n",
       "\n",
       "\t-----------creators-----------\n",
       "\t[syft.FloatTensor:3 grad:None size:6 c:[20] p:[] init:]\n",
       "\t------------------------------\n",
       "\n"
      ]
     },
     "execution_count": 20,
     "metadata": {},
     "output_type": "execute_result"
    }
   ],
   "source": [
    "c.view_as(b)\n",
    "# should be\n",
    "#[[-30. -32.  33.]\n",
    "# [ 34.  35. -36.]]"
   ]
  },
  {
   "cell_type": "code",
   "execution_count": 21,
   "metadata": {},
   "outputs": [
    {
     "data": {
      "text/plain": [
       "[-100. -200.  300.  400.  500. -600.]\n",
       "[syft.FloatTensor:19 grad:None size:6 c:[] p:[2] init:view_6]\n",
       "\n",
       "\t-----------creators-----------\n",
       "\t[syft.FloatTensor:2 grad:None size:2x3 c:[19] p:[] init:]\n",
       "\t------------------------------\n",
       "\n"
      ]
     },
     "execution_count": 21,
     "metadata": {},
     "output_type": "execute_result"
    }
   ],
   "source": [
    "d = b.view_as(c)\n",
    "# d should be [-100. -200.  300.  400.  500. -600.]\n",
    "d"
   ]
  },
  {
   "cell_type": "markdown",
   "metadata": {},
   "source": [
    "### CPU vs GPU"
   ]
  },
  {
   "cell_type": "code",
   "execution_count": 22,
   "metadata": {
    "collapsed": true
   },
   "outputs": [],
   "source": [
    "gpu = True"
   ]
  },
  {
   "cell_type": "markdown",
   "metadata": {},
   "source": [
    "### Absolute Value"
   ]
  },
  {
   "cell_type": "code",
   "execution_count": 23,
   "metadata": {
    "collapsed": true
   },
   "outputs": [],
   "source": [
    "a = FloatTensor(data)\n",
    "\n",
    "if(gpu):\n",
    "    a.gpu()"
   ]
  },
  {
   "cell_type": "code",
   "execution_count": 24,
   "metadata": {},
   "outputs": [
    {
     "data": {
      "text/plain": [
       "[1. 2. 3. 4. 5. 6.]\n",
       "[syft.FloatTensor:22 grad:None size:6 c:[] p:[21] init:abs]\n",
       "\n",
       "\t-----------creators-----------\n",
       "\t[syft.FloatTensor:21 grad:None size:6 c:[22] p:[] init:]\n",
       "\t------------------------------\n",
       "\n"
      ]
     },
     "execution_count": 24,
     "metadata": {},
     "output_type": "execute_result"
    }
   ],
   "source": [
    "b = a.abs()\n",
    "b"
   ]
  },
  {
   "cell_type": "code",
   "execution_count": 25,
   "metadata": {
    "collapsed": true
   },
   "outputs": [],
   "source": [
    "a = FloatTensor(data)\n",
    "if(gpu):\n",
    "    a.gpu()"
   ]
  },
  {
   "cell_type": "code",
   "execution_count": 26,
   "metadata": {},
   "outputs": [
    {
     "data": {
      "text/plain": [
       "[-1. -2.  3.  4.  5. -6.]\n",
       "[syft.FloatTensor:23 grad:None size:6 c:[] p:[] init:]"
      ]
     },
     "execution_count": 26,
     "metadata": {},
     "output_type": "execute_result"
    }
   ],
   "source": [
    "a"
   ]
  },
  {
   "cell_type": "code",
   "execution_count": 27,
   "metadata": {},
   "outputs": [
    {
     "data": {
      "text/plain": [
       "[-1. -2.  3.  4.  5. -6.]\n",
       "[syft.FloatTensor:23 grad:None size:6 c:[] p:[] init:]"
      ]
     },
     "execution_count": 27,
     "metadata": {},
     "output_type": "execute_result"
    }
   ],
   "source": [
    "a.abs_()"
   ]
  },
  {
   "cell_type": "code",
   "execution_count": 28,
   "metadata": {},
   "outputs": [
    {
     "data": {
      "text/plain": [
       "23"
      ]
     },
     "execution_count": 28,
     "metadata": {},
     "output_type": "execute_result"
    }
   ],
   "source": [
    "a.id"
   ]
  },
  {
   "cell_type": "markdown",
   "metadata": {},
   "source": [
    "### Addition"
   ]
  },
  {
   "cell_type": "code",
   "execution_count": 29,
   "metadata": {
    "collapsed": true
   },
   "outputs": [],
   "source": [
    "a = FloatTensor(data)\n",
    "if(gpu):\n",
    "    a.gpu()"
   ]
  },
  {
   "cell_type": "code",
   "execution_count": 30,
   "metadata": {},
   "outputs": [
    {
     "data": {
      "text/plain": [
       "[-1. -2.  3.  4.  5. -6.]\n",
       "[syft.FloatTensor:24 grad:None size:6 c:[] p:[] init:]"
      ]
     },
     "execution_count": 30,
     "metadata": {},
     "output_type": "execute_result"
    }
   ],
   "source": [
    "a"
   ]
  },
  {
   "cell_type": "code",
   "execution_count": 31,
   "metadata": {},
   "outputs": [
    {
     "data": {
      "text/plain": [
       "[ -2.  -4.   6.   8.  10. -12.]\n",
       "[syft.FloatTensor:25 grad:None size:6 c:[] p:[24, 24] init:add_elem]\n",
       "\n",
       "\t-----------creators-----------\n",
       "\t[syft.FloatTensor:24 grad:None size:6 c:[25, 25] p:[] init:]\n",
       "\t[syft.FloatTensor:24 grad:None size:6 c:[25, 25] p:[] init:]\n",
       "\t------------------------------\n",
       "\n"
      ]
     },
     "execution_count": 31,
     "metadata": {},
     "output_type": "execute_result"
    }
   ],
   "source": [
    "a = a + a\n",
    "a"
   ]
  },
  {
   "cell_type": "code",
   "execution_count": 32,
   "metadata": {},
   "outputs": [
    {
     "data": {
      "text/plain": [
       "[ -2.  -4.   6.   8.  10. -12.]\n",
       "[syft.FloatTensor:25 grad:None size:6 c:[] p:[24, 24] init:add_elem]\n",
       "\n",
       "\t-----------creators-----------\n",
       "\t[syft.FloatTensor:24 grad:None size:6 c:[25, 25] p:[] init:]\n",
       "\t[syft.FloatTensor:24 grad:None size:6 c:[25, 25] p:[] init:]\n",
       "\t------------------------------\n",
       "\n"
      ]
     },
     "execution_count": 32,
     "metadata": {},
     "output_type": "execute_result"
    }
   ],
   "source": [
    "a += a\n",
    "a"
   ]
  },
  {
   "cell_type": "code",
   "execution_count": 33,
   "metadata": {},
   "outputs": [
    {
     "data": {
      "text/plain": [
       "[ 1. -1.  9. 11. 13. -9.]\n",
       "[syft.FloatTensor:26 grad:None size:6 c:[] p:[25, 27] init:add_scalar]\n",
       "\n",
       "\t-----------creators-----------\n",
       "\t[syft.FloatTensor:25 grad:None size:6 c:[26] p:[24, 24] init:add_elem]\n",
       "\t[syft.FloatTensor:27 grad:None size:1 c:[] p:[] init:add_scalar]\n",
       "\t------------------------------\n",
       "\n"
      ]
     },
     "execution_count": 33,
     "metadata": {},
     "output_type": "execute_result"
    }
   ],
   "source": [
    "a = a + 3\n",
    "a"
   ]
  },
  {
   "cell_type": "code",
   "execution_count": 34,
   "metadata": {},
   "outputs": [
    {
     "data": {
      "text/plain": [
       "[ 1. -1.  9. 11. 13. -9.]\n",
       "[syft.FloatTensor:26 grad:None size:6 c:[] p:[25, 27] init:add_scalar]\n",
       "\n",
       "\t-----------creators-----------\n",
       "\t[syft.FloatTensor:25 grad:None size:6 c:[26] p:[24, 24] init:add_elem]\n",
       "\t[syft.FloatTensor:27 grad:None size:1 c:[] p:[] init:add_scalar]\n",
       "\t------------------------------\n",
       "\n"
      ]
     },
     "execution_count": 34,
     "metadata": {},
     "output_type": "execute_result"
    }
   ],
   "source": [
    "a += 3\n",
    "a"
   ]
  },
  {
   "cell_type": "markdown",
   "metadata": {},
   "source": [
    "### Subtraction"
   ]
  },
  {
   "cell_type": "code",
   "execution_count": 35,
   "metadata": {
    "collapsed": true
   },
   "outputs": [],
   "source": [
    "a = FloatTensor(data)\n",
    "b = FloatTensor(data * 2)\n",
    "if(gpu):\n",
    "    a.gpu()\n",
    "    b.gpu()"
   ]
  },
  {
   "cell_type": "code",
   "execution_count": 36,
   "metadata": {},
   "outputs": [
    {
     "data": {
      "text/plain": [
       "[-1. -2.  3.  4.  5. -6.]\n",
       "[syft.FloatTensor:28 grad:None size:6 c:[] p:[] init:]"
      ]
     },
     "execution_count": 36,
     "metadata": {},
     "output_type": "execute_result"
    }
   ],
   "source": [
    "a"
   ]
  },
  {
   "cell_type": "code",
   "execution_count": 37,
   "metadata": {},
   "outputs": [
    {
     "data": {
      "text/plain": [
       "[ -2.  -4.   6.   8.  10. -12.]\n",
       "[syft.FloatTensor:29 grad:None size:6 c:[] p:[] init:]"
      ]
     },
     "execution_count": 37,
     "metadata": {},
     "output_type": "execute_result"
    }
   ],
   "source": [
    "b"
   ]
  },
  {
   "cell_type": "code",
   "execution_count": 38,
   "metadata": {},
   "outputs": [
    {
     "data": {
      "text/plain": [
       "[ 1.  2. -3. -4. -5.  6.]\n",
       "[syft.FloatTensor:30 grad:None size:6 c:[] p:[28, 29] init:sub_elem]\n",
       "\n",
       "\t-----------creators-----------\n",
       "\t[syft.FloatTensor:28 grad:None size:6 c:[30] p:[] init:]\n",
       "\t[syft.FloatTensor:29 grad:None size:6 c:[30] p:[] init:]\n",
       "\t------------------------------\n",
       "\n"
      ]
     },
     "execution_count": 38,
     "metadata": {},
     "output_type": "execute_result"
    }
   ],
   "source": [
    "a - b"
   ]
  },
  {
   "cell_type": "code",
   "execution_count": 39,
   "metadata": {},
   "outputs": [
    {
     "data": {
      "text/plain": [
       "[-1. -2.  3.  4.  5. -6.]\n",
       "[syft.FloatTensor:30 grad:None size:6 c:[] p:[28, 29] init:sub_elem]\n",
       "\n",
       "\t-----------creators-----------\n",
       "\t[syft.FloatTensor:28 grad:None size:6 c:[30] p:[] init:]\n",
       "\t[syft.FloatTensor:29 grad:None size:6 c:[30] p:[] init:]\n",
       "\t------------------------------\n",
       "\n"
      ]
     },
     "execution_count": 39,
     "metadata": {},
     "output_type": "execute_result"
    }
   ],
   "source": [
    "b - a"
   ]
  },
  {
   "cell_type": "code",
   "execution_count": 40,
   "metadata": {},
   "outputs": [
    {
     "data": {
      "text/plain": [
       "[-2. -3.  2.  3.  4. -7.]\n",
       "[syft.FloatTensor:31 grad:None size:6 c:[] p:[28, 32] init:sub_scalar]\n",
       "\n",
       "\t-----------creators-----------\n",
       "\t[syft.FloatTensor:28 grad:None size:6 c:[30, 31] p:[] init:]\n",
       "\t[syft.FloatTensor:32 grad:None size:1 c:[] p:[] init:sub_scalar]\n",
       "\t------------------------------\n",
       "\n"
      ]
     },
     "execution_count": 40,
     "metadata": {},
     "output_type": "execute_result"
    }
   ],
   "source": [
    "a - 1"
   ]
  },
  {
   "cell_type": "code",
   "execution_count": 41,
   "metadata": {},
   "outputs": [
    {
     "data": {
      "text/plain": [
       "[ -4.  -6.   4.   6.   8. -14.]\n",
       "[syft.FloatTensor:33 grad:None size:6 c:[] p:[29, 34] init:sub_scalar]\n",
       "\n",
       "\t-----------creators-----------\n",
       "\t[syft.FloatTensor:29 grad:None size:6 c:[30, 33] p:[] init:]\n",
       "\t[syft.FloatTensor:34 grad:None size:1 c:[] p:[] init:sub_scalar]\n",
       "\t------------------------------\n",
       "\n"
      ]
     },
     "execution_count": 41,
     "metadata": {},
     "output_type": "execute_result"
    }
   ],
   "source": [
    "b - 2"
   ]
  },
  {
   "cell_type": "code",
   "execution_count": 42,
   "metadata": {},
   "outputs": [
    {
     "data": {
      "text/plain": [
       "[-1. -2.  3.  4.  5. -6.]\n",
       "[syft.FloatTensor:28 grad:None size:6 c:[30, 31] p:[] init:]\n",
       "\n",
       "\t-----------children-----------\n",
       "\t[syft.FloatTensor:30 grad:None size:6 c:[] p:[28, 29] init:sub_elem]\n",
       "\t[syft.FloatTensor:31 grad:None size:6 c:[] p:[28, 32] init:sub_scalar]\n",
       "\t------------------------------\n",
       "\n"
      ]
     },
     "execution_count": 42,
     "metadata": {},
     "output_type": "execute_result"
    }
   ],
   "source": [
    "a -= 1\n",
    "a"
   ]
  },
  {
   "cell_type": "code",
   "execution_count": 43,
   "metadata": {},
   "outputs": [
    {
     "data": {
      "text/plain": [
       "[ -2.  -4.   6.   8.  10. -12.]\n",
       "[syft.FloatTensor:29 grad:None size:6 c:[30, 33] p:[] init:]\n",
       "\n",
       "\t-----------children-----------\n",
       "\t[syft.FloatTensor:30 grad:None size:6 c:[] p:[28, 29] init:sub_elem]\n",
       "\t[syft.FloatTensor:33 grad:None size:6 c:[] p:[29, 34] init:sub_scalar]\n",
       "\t------------------------------\n",
       "\n"
      ]
     },
     "execution_count": 43,
     "metadata": {},
     "output_type": "execute_result"
    }
   ],
   "source": [
    "b -= 1\n",
    "b"
   ]
  },
  {
   "cell_type": "code",
   "execution_count": 44,
   "metadata": {},
   "outputs": [
    {
     "data": {
      "text/plain": [
       "[-1. -2.  3.  4.  5. -6.]\n",
       "[syft.FloatTensor:28 grad:None size:6 c:[30, 31] p:[] init:]\n",
       "\n",
       "\t-----------children-----------\n",
       "\t[syft.FloatTensor:30 grad:None size:6 c:[] p:[28, 29] init:sub_elem]\n",
       "\t[syft.FloatTensor:31 grad:None size:6 c:[] p:[28, 32] init:sub_scalar]\n",
       "\t------------------------------\n",
       "\n"
      ]
     },
     "execution_count": 44,
     "metadata": {},
     "output_type": "execute_result"
    }
   ],
   "source": [
    "a -= b\n",
    "a"
   ]
  },
  {
   "cell_type": "markdown",
   "metadata": {},
   "source": [
    "## Multiplication"
   ]
  },
  {
   "cell_type": "code",
   "execution_count": 45,
   "metadata": {},
   "outputs": [
    {
     "data": {
      "text/plain": [
       "[ 1.  4.  9. 16. 25. 36.]\n",
       "[syft.FloatTensor:35 grad:None size:6 c:[] p:[28, 28] init:mul_elem]\n",
       "\n",
       "\t-----------creators-----------\n",
       "\t[syft.FloatTensor:28 grad:None size:6 c:[30, 31, 35, 35] p:[] init:]\n",
       "\t[syft.FloatTensor:28 grad:None size:6 c:[30, 31, 35, 35] p:[] init:]\n",
       "\t------------------------------\n",
       "\n"
      ]
     },
     "execution_count": 45,
     "metadata": {},
     "output_type": "execute_result"
    }
   ],
   "source": [
    "a = a * a\n",
    "a"
   ]
  },
  {
   "cell_type": "code",
   "execution_count": 46,
   "metadata": {},
   "outputs": [
    {
     "data": {
      "text/plain": [
       "[ 1.  4.  9. 16. 25. 36.]\n",
       "[syft.FloatTensor:35 grad:None size:6 c:[] p:[28, 28] init:mul_elem]\n",
       "\n",
       "\t-----------creators-----------\n",
       "\t[syft.FloatTensor:28 grad:None size:6 c:[30, 31, 35, 35] p:[] init:]\n",
       "\t[syft.FloatTensor:28 grad:None size:6 c:[30, 31, 35, 35] p:[] init:]\n",
       "\t------------------------------\n",
       "\n"
      ]
     },
     "execution_count": 46,
     "metadata": {},
     "output_type": "execute_result"
    }
   ],
   "source": [
    "a *= a\n",
    "a"
   ]
  },
  {
   "cell_type": "code",
   "execution_count": 47,
   "metadata": {},
   "outputs": [
    {
     "data": {
      "text/plain": [
       "[  3.       12.       27.       48.       74.99999 108.     ]\n",
       "[syft.FloatTensor:36 grad:None size:6 c:[] p:[35, 37] init:mul_scalar]\n",
       "\n",
       "\t-----------creators-----------\n",
       "\t[syft.FloatTensor:35 grad:None size:6 c:[36] p:[28, 28] init:mul_elem]\n",
       "\t[syft.FloatTensor:37 grad:None size:1 c:[] p:[] init:mul_scalar]\n",
       "\t------------------------------\n",
       "\n"
      ]
     },
     "execution_count": 47,
     "metadata": {},
     "output_type": "execute_result"
    }
   ],
   "source": [
    "a = a * 3\n",
    "a"
   ]
  },
  {
   "cell_type": "code",
   "execution_count": 48,
   "metadata": {},
   "outputs": [
    {
     "data": {
      "text/plain": [
       "[  3.       12.       27.       48.       74.99999 108.     ]\n",
       "[syft.FloatTensor:36 grad:None size:6 c:[] p:[35, 37] init:mul_scalar]\n",
       "\n",
       "\t-----------creators-----------\n",
       "\t[syft.FloatTensor:35 grad:None size:6 c:[36] p:[28, 28] init:mul_elem]\n",
       "\t[syft.FloatTensor:37 grad:None size:1 c:[] p:[] init:mul_scalar]\n",
       "\t------------------------------\n",
       "\n"
      ]
     },
     "execution_count": 48,
     "metadata": {},
     "output_type": "execute_result"
    }
   ],
   "source": [
    "a *= 3\n",
    "a"
   ]
  },
  {
   "cell_type": "markdown",
   "metadata": {},
   "source": [
    "### Divison"
   ]
  },
  {
   "cell_type": "code",
   "execution_count": 49,
   "metadata": {},
   "outputs": [
    {
     "data": {
      "text/plain": [
       "[  3.       12.       27.       48.       74.99999 108.     ]\n",
       "[syft.FloatTensor:36 grad:None size:6 c:[] p:[35, 37] init:mul_scalar]\n",
       "\n",
       "\t-----------creators-----------\n",
       "\t[syft.FloatTensor:35 grad:None size:6 c:[36] p:[28, 28] init:mul_elem]\n",
       "\t[syft.FloatTensor:37 grad:None size:1 c:[] p:[] init:mul_scalar]\n",
       "\t------------------------------\n",
       "\n"
      ]
     },
     "execution_count": 49,
     "metadata": {},
     "output_type": "execute_result"
    }
   ],
   "source": [
    "a"
   ]
  },
  {
   "cell_type": "code",
   "execution_count": 50,
   "metadata": {},
   "outputs": [
    {
     "data": {
      "text/plain": [
       "[ -2.  -4.   6.   8.  10. -12.]\n",
       "[syft.FloatTensor:29 grad:None size:6 c:[30, 33] p:[] init:]\n",
       "\n",
       "\t-----------children-----------\n",
       "\t[syft.FloatTensor:30 grad:None size:6 c:[] p:[28, 29] init:sub_elem]\n",
       "\t[syft.FloatTensor:33 grad:None size:6 c:[] p:[29, 34] init:sub_scalar]\n",
       "\t------------------------------\n",
       "\n"
      ]
     },
     "execution_count": 50,
     "metadata": {},
     "output_type": "execute_result"
    }
   ],
   "source": [
    "b"
   ]
  },
  {
   "cell_type": "code",
   "execution_count": 51,
   "metadata": {},
   "outputs": [
    {
     "data": {
      "text/plain": [
       "[0. 0. 0. 0. 0. 0.]\n",
       "[syft.FloatTensor:38 grad:None size:6 c:[] p:[36, 36] init:div_elem]\n",
       "\n",
       "\t-----------creators-----------\n",
       "\t[syft.FloatTensor:36 grad:None size:6 c:[38, 38] p:[35, 37] init:mul_scalar]\n",
       "\t[syft.FloatTensor:36 grad:None size:6 c:[38, 38] p:[35, 37] init:mul_scalar]\n",
       "\t------------------------------\n",
       "\n"
      ]
     },
     "execution_count": 51,
     "metadata": {},
     "output_type": "execute_result"
    }
   ],
   "source": [
    "a = a/a\n",
    "a"
   ]
  },
  {
   "cell_type": "code",
   "execution_count": 52,
   "metadata": {},
   "outputs": [
    {
     "data": {
      "text/plain": [
       "[-inf -inf  inf  inf  inf -inf]\n",
       "[syft.FloatTensor:39 grad:None size:6 c:[] p:[29, 38] init:div_elem]\n",
       "\n",
       "\t-----------creators-----------\n",
       "\t[syft.FloatTensor:29 grad:None size:6 c:[30, 33, 39] p:[] init:]\n",
       "\t[syft.FloatTensor:38 grad:None size:6 c:[39] p:[36, 36] init:div_elem]\n",
       "\t------------------------------\n",
       "\n"
      ]
     },
     "execution_count": 52,
     "metadata": {},
     "output_type": "execute_result"
    }
   ],
   "source": [
    "b / a"
   ]
  },
  {
   "cell_type": "code",
   "execution_count": 53,
   "metadata": {},
   "outputs": [
    {
     "data": {
      "text/plain": [
       "[0. 0. 0. 0. 0. 0.]\n",
       "[syft.FloatTensor:39 grad:None size:6 c:[] p:[29, 38] init:div_elem]\n",
       "\n",
       "\t-----------creators-----------\n",
       "\t[syft.FloatTensor:29 grad:None size:6 c:[30, 33, 39] p:[] init:]\n",
       "\t[syft.FloatTensor:38 grad:None size:6 c:[39] p:[36, 36] init:div_elem]\n",
       "\t------------------------------\n",
       "\n"
      ]
     },
     "execution_count": 53,
     "metadata": {},
     "output_type": "execute_result"
    }
   ],
   "source": [
    "a / b"
   ]
  },
  {
   "cell_type": "code",
   "execution_count": 54,
   "metadata": {},
   "outputs": [
    {
     "data": {
      "text/plain": [
       "[0. 0. 0. 0. 0. 0.]\n",
       "[syft.FloatTensor:40 grad:None size:6 c:[] p:[38, 41] init:div_scalar]\n",
       "\n",
       "\t-----------creators-----------\n",
       "\t[syft.FloatTensor:38 grad:None size:6 c:[39, 40] p:[36, 36] init:div_elem]\n",
       "\t[syft.FloatTensor:41 grad:None size:1 c:[] p:[] init:div_scalar]\n",
       "\t------------------------------\n",
       "\n"
      ]
     },
     "execution_count": 54,
     "metadata": {},
     "output_type": "execute_result"
    }
   ],
   "source": [
    "a / 1"
   ]
  },
  {
   "cell_type": "code",
   "execution_count": 55,
   "metadata": {},
   "outputs": [
    {
     "data": {
      "text/plain": [
       "[ -2.  -4.   6.   8.  10. -12.]\n",
       "[syft.FloatTensor:42 grad:None size:6 c:[] p:[29, 43] init:div_scalar]\n",
       "\n",
       "\t-----------creators-----------\n",
       "\t[syft.FloatTensor:29 grad:None size:6 c:[30, 33, 39, 42] p:[] init:]\n",
       "\t[syft.FloatTensor:43 grad:None size:1 c:[] p:[] init:div_scalar]\n",
       "\t------------------------------\n",
       "\n"
      ]
     },
     "execution_count": 55,
     "metadata": {},
     "output_type": "execute_result"
    }
   ],
   "source": [
    "b / 1"
   ]
  },
  {
   "cell_type": "code",
   "execution_count": 56,
   "metadata": {},
   "outputs": [
    {
     "data": {
      "text/plain": [
       "[0. 0. 0. 0. 0. 0.]\n",
       "[syft.FloatTensor:38 grad:None size:6 c:[39, 40] p:[36, 36] init:div_elem]\n",
       "\n",
       "\t-----------children-----------\n",
       "\t[syft.FloatTensor:39 grad:None size:6 c:[] p:[29, 38] init:div_elem]\n",
       "\t[syft.FloatTensor:40 grad:None size:6 c:[] p:[38, 41] init:div_scalar]\n",
       "\t------------------------------\n",
       "\n",
       "\t-----------creators-----------\n",
       "\t[syft.FloatTensor:36 grad:None size:6 c:[38, 38] p:[35, 37] init:mul_scalar]\n",
       "\t[syft.FloatTensor:36 grad:None size:6 c:[38, 38] p:[35, 37] init:mul_scalar]\n",
       "\t------------------------------\n",
       "\n"
      ]
     },
     "execution_count": 56,
     "metadata": {},
     "output_type": "execute_result"
    }
   ],
   "source": [
    "a /= b\n",
    "a"
   ]
  },
  {
   "cell_type": "code",
   "execution_count": 57,
   "metadata": {},
   "outputs": [
    {
     "data": {
      "text/plain": [
       "[ -2.  -4.   6.   8.  10. -12.]\n",
       "[syft.FloatTensor:29 grad:None size:6 c:[30, 33, 39, 42] p:[] init:]\n",
       "\n",
       "\t-----------children-----------\n",
       "\t[syft.FloatTensor:30 grad:None size:6 c:[] p:[28, 29] init:sub_elem]\n",
       "\t[syft.FloatTensor:33 grad:None size:6 c:[] p:[29, 34] init:sub_scalar]\n",
       "\t[syft.FloatTensor:39 grad:None size:6 c:[] p:[29, 38] init:div_elem]\n",
       "\t[syft.FloatTensor:42 grad:None size:6 c:[] p:[29, 43] init:div_scalar]\n",
       "\t------------------------------\n",
       "\n"
      ]
     },
     "execution_count": 57,
     "metadata": {},
     "output_type": "execute_result"
    }
   ],
   "source": [
    "b /= a\n",
    "b"
   ]
  },
  {
   "cell_type": "code",
   "execution_count": 58,
   "metadata": {
    "scrolled": true
   },
   "outputs": [
    {
     "data": {
      "text/plain": [
       "[0. 0. 0. 0. 0. 0.]\n",
       "[syft.FloatTensor:38 grad:None size:6 c:[39, 40] p:[36, 36] init:div_elem]\n",
       "\n",
       "\t-----------children-----------\n",
       "\t[syft.FloatTensor:39 grad:None size:6 c:[] p:[29, 38] init:div_elem]\n",
       "\t[syft.FloatTensor:40 grad:None size:6 c:[] p:[38, 41] init:div_scalar]\n",
       "\t------------------------------\n",
       "\n",
       "\t-----------creators-----------\n",
       "\t[syft.FloatTensor:36 grad:None size:6 c:[38, 38] p:[35, 37] init:mul_scalar]\n",
       "\t[syft.FloatTensor:36 grad:None size:6 c:[38, 38] p:[35, 37] init:mul_scalar]\n",
       "\t------------------------------\n",
       "\n"
      ]
     },
     "execution_count": 58,
     "metadata": {},
     "output_type": "execute_result"
    }
   ],
   "source": [
    "a /= a\n",
    "a"
   ]
  },
  {
   "cell_type": "code",
   "execution_count": 59,
   "metadata": {},
   "outputs": [
    {
     "data": {
      "text/plain": [
       "[ -2.  -4.   6.   8.  10. -12.]\n",
       "[syft.FloatTensor:29 grad:None size:6 c:[30, 33, 39, 42] p:[] init:]\n",
       "\n",
       "\t-----------children-----------\n",
       "\t[syft.FloatTensor:30 grad:None size:6 c:[] p:[28, 29] init:sub_elem]\n",
       "\t[syft.FloatTensor:33 grad:None size:6 c:[] p:[29, 34] init:sub_scalar]\n",
       "\t[syft.FloatTensor:39 grad:None size:6 c:[] p:[29, 38] init:div_elem]\n",
       "\t[syft.FloatTensor:42 grad:None size:6 c:[] p:[29, 43] init:div_scalar]\n",
       "\t------------------------------\n",
       "\n"
      ]
     },
     "execution_count": 59,
     "metadata": {},
     "output_type": "execute_result"
    }
   ],
   "source": [
    "b /= 1\n",
    "b"
   ]
  },
  {
   "cell_type": "code",
   "execution_count": 60,
   "metadata": {},
   "outputs": [
    {
     "data": {
      "text/plain": [
       "[ -2.  -4.   6.   8.  10. -12.]\n",
       "[syft.FloatTensor:29 grad:None size:6 c:[30, 33, 39, 42] p:[] init:]\n",
       "\n",
       "\t-----------children-----------\n",
       "\t[syft.FloatTensor:30 grad:None size:6 c:[] p:[28, 29] init:sub_elem]\n",
       "\t[syft.FloatTensor:33 grad:None size:6 c:[] p:[29, 34] init:sub_scalar]\n",
       "\t[syft.FloatTensor:39 grad:None size:6 c:[] p:[29, 38] init:div_elem]\n",
       "\t[syft.FloatTensor:42 grad:None size:6 c:[] p:[29, 43] init:div_scalar]\n",
       "\t------------------------------\n",
       "\n"
      ]
     },
     "execution_count": 60,
     "metadata": {},
     "output_type": "execute_result"
    }
   ],
   "source": [
    "b /= 2\n",
    "b"
   ]
  },
  {
   "cell_type": "code",
   "execution_count": 61,
   "metadata": {
    "collapsed": true
   },
   "outputs": [],
   "source": [
    "a *= 2"
   ]
  },
  {
   "cell_type": "code",
   "execution_count": 62,
   "metadata": {},
   "outputs": [
    {
     "data": {
      "text/plain": [
       "[0. 0. 0. 0. 0. 0.]\n",
       "[syft.FloatTensor:38 grad:None size:6 c:[39, 40] p:[36, 36] init:div_elem]\n",
       "\n",
       "\t-----------children-----------\n",
       "\t[syft.FloatTensor:39 grad:None size:6 c:[] p:[29, 38] init:div_elem]\n",
       "\t[syft.FloatTensor:40 grad:None size:6 c:[] p:[38, 41] init:div_scalar]\n",
       "\t------------------------------\n",
       "\n",
       "\t-----------creators-----------\n",
       "\t[syft.FloatTensor:36 grad:None size:6 c:[38, 38] p:[35, 37] init:mul_scalar]\n",
       "\t[syft.FloatTensor:36 grad:None size:6 c:[38, 38] p:[35, 37] init:mul_scalar]\n",
       "\t------------------------------\n",
       "\n"
      ]
     },
     "execution_count": 62,
     "metadata": {},
     "output_type": "execute_result"
    }
   ],
   "source": [
    "a"
   ]
  }
 ],
 "metadata": {
  "anaconda-cloud": {},
  "kernelspec": {
   "display_name": "Python [conda env:openmined]",
   "language": "python",
   "name": "conda-env-openmined-py"
  },
  "language_info": {
   "codemirror_mode": {
    "name": "ipython",
    "version": 3
   },
   "file_extension": ".py",
   "mimetype": "text/x-python",
   "name": "python",
   "nbconvert_exporter": "python",
   "pygments_lexer": "ipython3",
   "version": "3.6.4"
  }
 },
 "nbformat": 4,
 "nbformat_minor": 2
}
